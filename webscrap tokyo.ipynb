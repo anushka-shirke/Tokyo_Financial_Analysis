{
 "cells": [
  {
   "cell_type": "code",
   "execution_count": 1,
   "id": "78dd63a4-0267-4e7b-8d07-2f9618718592",
   "metadata": {},
   "outputs": [],
   "source": [
    "import pandas as pd\n",
    "import datetime \n",
    "import yfinance as yf\n",
    "import seaborn as sb\n",
    "import matplotlib.pyplot as plt"
   ]
  },
  {
   "cell_type": "code",
   "execution_count": 2,
   "id": "54f305f3-e290-4e72-b048-645963d07aeb",
   "metadata": {},
   "outputs": [],
   "source": [
    "s=datetime.datetime(2023,4,1)\n",
    "e=datetime.datetime(2025,4,27)"
   ]
  },
  {
   "cell_type": "code",
   "execution_count": 3,
   "id": "147d6f38-dc10-4611-9f08-5b4945dd7bbc",
   "metadata": {},
   "outputs": [
    {
     "name": "stdout",
     "output_type": "stream",
     "text": [
      "YF.download() has changed argument auto_adjust default to True\n"
     ]
    },
    {
     "name": "stderr",
     "output_type": "stream",
     "text": [
      "[*********************100%***********************]  1 of 1 completed\n"
     ]
    }
   ],
   "source": [
    "sony=yf.download('6758.T',start=s,end=e)\n",
    "sony.columns=sony.columns.get_level_values(0)\n",
    "sony=sony.reset_index()\n",
    "sony['Symbol']='SONY'"
   ]
  },
  {
   "cell_type": "code",
   "execution_count": 4,
   "id": "ad83817f-b57e-4fed-abb9-b43433715bfb",
   "metadata": {},
   "outputs": [
    {
     "name": "stderr",
     "output_type": "stream",
     "text": [
      "[*********************100%***********************]  1 of 1 completed\n"
     ]
    }
   ],
   "source": [
    "toyo=yf.download('7203.T',start=s,end=e)\n",
    "toyo.columns=toyo.columns.get_level_values(0)\n",
    "toyo=toyo.reset_index()\n",
    "toyo['Symbol']='TOYOTA'"
   ]
  },
  {
   "cell_type": "code",
   "execution_count": 5,
   "id": "5a2a6c23-0e1c-48fc-9043-f89122babe6b",
   "metadata": {},
   "outputs": [
    {
     "name": "stderr",
     "output_type": "stream",
     "text": [
      "[*********************100%***********************]  1 of 1 completed\n"
     ]
    }
   ],
   "source": [
    "hon=yf.download('7267.T',start=s,end=e)\n",
    "hon.columns=hon.columns.get_level_values(0)\n",
    "hon=hon.reset_index()\n",
    "hon['Symbol']='HONDA'"
   ]
  },
  {
   "cell_type": "code",
   "execution_count": 6,
   "id": "5db4b895-b688-4777-92ae-12dec6386fc0",
   "metadata": {},
   "outputs": [
    {
     "name": "stderr",
     "output_type": "stream",
     "text": [
      "[*********************100%***********************]  1 of 1 completed\n"
     ]
    }
   ],
   "source": [
    "mitsu=yf.download('8058.T',start=s,end=e)\n",
    "mitsu.columns=mitsu.columns.get_level_values(0)\n",
    "mitsu=mitsu.reset_index()\n",
    "mitsu['Symbol']='MITSUBISHI CORP'"
   ]
  },
  {
   "cell_type": "code",
   "execution_count": 7,
   "id": "e64b9e7a-2ece-40c3-952d-2e3284813858",
   "metadata": {},
   "outputs": [
    {
     "name": "stderr",
     "output_type": "stream",
     "text": [
      "[*********************100%***********************]  1 of 1 completed\n"
     ]
    }
   ],
   "source": [
    "nis=yf.download('7201.T',start=s,end=e)\n",
    "nis.columns=nis.columns.get_level_values(0)\n",
    "nis=nis.reset_index()\n",
    "nis['Symbol']='NISSAN MOTOR CORP'"
   ]
  },
  {
   "cell_type": "code",
   "execution_count": 8,
   "id": "1b387f00-22fe-478e-9b9f-92f5f6d8634c",
   "metadata": {},
   "outputs": [
    {
     "name": "stderr",
     "output_type": "stream",
     "text": [
      "[*********************100%***********************]  1 of 1 completed\n"
     ]
    }
   ],
   "source": [
    "nipp=yf.download('5401.T',start=s,end=e)\n",
    "nipp.columns=nipp.columns.get_level_values(0)\n",
    "nipp=nipp.reset_index()\n",
    "nipp['Symbol']='NIPPON STEEL CORP'"
   ]
  },
  {
   "cell_type": "code",
   "execution_count": 9,
   "id": "53ecfc66-6374-4a95-bcca-f9188a85c05a",
   "metadata": {},
   "outputs": [
    {
     "name": "stderr",
     "output_type": "stream",
     "text": [
      "[*********************100%***********************]  1 of 1 completed\n"
     ]
    }
   ],
   "source": [
    "hit=yf.download('6501.T',start=s,end=e)\n",
    "hit.columns=hit.columns.get_level_values(0)\n",
    "hit=hit.reset_index()\n",
    "hit['Symbol']='HITACHI'"
   ]
  },
  {
   "cell_type": "code",
   "execution_count": 10,
   "id": "c47f5a8e-0880-4df8-a588-629d49127622",
   "metadata": {},
   "outputs": [
    {
     "name": "stderr",
     "output_type": "stream",
     "text": [
      "[*********************100%***********************]  1 of 1 completed\n"
     ]
    }
   ],
   "source": [
    "nin=yf.download('7974.T',start=s,end=e)\n",
    "nin.columns=nin.columns.get_level_values(0)\n",
    "nin=nin.reset_index()\n",
    "nin['Symbol']='NINTENDO'"
   ]
  },
  {
   "cell_type": "code",
   "execution_count": 11,
   "id": "599dae45-47c6-4b51-a021-d7b194ad2756",
   "metadata": {},
   "outputs": [
    {
     "name": "stderr",
     "output_type": "stream",
     "text": [
      "[*********************100%***********************]  1 of 1 completed\n"
     ]
    }
   ],
   "source": [
    "fuji=yf.download('6702.T',start=s,end=e)\n",
    "fuji.columns=fuji.columns.get_level_values(0)\n",
    "fuji=fuji.reset_index()\n",
    "fuji['Symbol']='FUJITSU'"
   ]
  },
  {
   "cell_type": "code",
   "execution_count": 12,
   "id": "a5229419-6918-4f5c-9a36-9b9a428849cc",
   "metadata": {},
   "outputs": [
    {
     "name": "stderr",
     "output_type": "stream",
     "text": [
      "[*********************100%***********************]  1 of 1 completed\n"
     ]
    }
   ],
   "source": [
    "jap=yf.download('9201.T',start=s,end=e)\n",
    "jap.columns=jap.columns.get_level_values(0)\n",
    "jap=jap.reset_index()\n",
    "jap['Symbol']='JAPAN AIRLINES'"
   ]
  },
  {
   "cell_type": "code",
   "execution_count": null,
   "id": "2c3bf29b-1f2f-4b17-a913-8a6704eb5969",
   "metadata": {},
   "outputs": [],
   "source": []
  },
  {
   "cell_type": "code",
   "execution_count": 13,
   "id": "373430fb-0ced-4f68-b85f-0ac8a3d9b9f4",
   "metadata": {},
   "outputs": [
    {
     "data": {
      "text/html": [
       "<div>\n",
       "<style scoped>\n",
       "    .dataframe tbody tr th:only-of-type {\n",
       "        vertical-align: middle;\n",
       "    }\n",
       "\n",
       "    .dataframe tbody tr th {\n",
       "        vertical-align: top;\n",
       "    }\n",
       "\n",
       "    .dataframe thead th {\n",
       "        text-align: right;\n",
       "    }\n",
       "</style>\n",
       "<table border=\"1\" class=\"dataframe\">\n",
       "  <thead>\n",
       "    <tr style=\"text-align: right;\">\n",
       "      <th>Price</th>\n",
       "      <th>Date</th>\n",
       "      <th>Close</th>\n",
       "      <th>High</th>\n",
       "      <th>Low</th>\n",
       "      <th>Open</th>\n",
       "      <th>Volume</th>\n",
       "      <th>Symbol</th>\n",
       "    </tr>\n",
       "  </thead>\n",
       "  <tbody>\n",
       "    <tr>\n",
       "      <th>0</th>\n",
       "      <td>2023-04-03</td>\n",
       "      <td>2383.880615</td>\n",
       "      <td>2396.761101</td>\n",
       "      <td>2367.036903</td>\n",
       "      <td>2395.770294</td>\n",
       "      <td>16283500</td>\n",
       "      <td>SONY</td>\n",
       "    </tr>\n",
       "    <tr>\n",
       "      <th>1</th>\n",
       "      <td>2023-04-04</td>\n",
       "      <td>2380.907959</td>\n",
       "      <td>2388.834411</td>\n",
       "      <td>2370.999894</td>\n",
       "      <td>2376.944733</td>\n",
       "      <td>15135000</td>\n",
       "      <td>SONY</td>\n",
       "    </tr>\n",
       "    <tr>\n",
       "      <th>2</th>\n",
       "      <td>2023-04-05</td>\n",
       "      <td>2340.285156</td>\n",
       "      <td>2371.990967</td>\n",
       "      <td>2333.349510</td>\n",
       "      <td>2365.055321</td>\n",
       "      <td>14185000</td>\n",
       "      <td>SONY</td>\n",
       "    </tr>\n",
       "    <tr>\n",
       "      <th>3</th>\n",
       "      <td>2023-04-06</td>\n",
       "      <td>2289.753662</td>\n",
       "      <td>2319.477855</td>\n",
       "      <td>2276.873179</td>\n",
       "      <td>2318.487049</td>\n",
       "      <td>17936500</td>\n",
       "      <td>SONY</td>\n",
       "    </tr>\n",
       "    <tr>\n",
       "      <th>4</th>\n",
       "      <td>2023-04-07</td>\n",
       "      <td>2300.652588</td>\n",
       "      <td>2304.615814</td>\n",
       "      <td>2285.790491</td>\n",
       "      <td>2286.781298</td>\n",
       "      <td>9824500</td>\n",
       "      <td>SONY</td>\n",
       "    </tr>\n",
       "    <tr>\n",
       "      <th>...</th>\n",
       "      <td>...</td>\n",
       "      <td>...</td>\n",
       "      <td>...</td>\n",
       "      <td>...</td>\n",
       "      <td>...</td>\n",
       "      <td>...</td>\n",
       "      <td>...</td>\n",
       "    </tr>\n",
       "    <tr>\n",
       "      <th>502</th>\n",
       "      <td>2025-04-21</td>\n",
       "      <td>2534.000000</td>\n",
       "      <td>2543.000000</td>\n",
       "      <td>2506.000000</td>\n",
       "      <td>2525.000000</td>\n",
       "      <td>1701100</td>\n",
       "      <td>JAPAN AIRLINES</td>\n",
       "    </tr>\n",
       "    <tr>\n",
       "      <th>503</th>\n",
       "      <td>2025-04-22</td>\n",
       "      <td>2591.500000</td>\n",
       "      <td>2597.500000</td>\n",
       "      <td>2536.500000</td>\n",
       "      <td>2537.000000</td>\n",
       "      <td>2045500</td>\n",
       "      <td>JAPAN AIRLINES</td>\n",
       "    </tr>\n",
       "    <tr>\n",
       "      <th>504</th>\n",
       "      <td>2025-04-23</td>\n",
       "      <td>2615.500000</td>\n",
       "      <td>2622.000000</td>\n",
       "      <td>2593.500000</td>\n",
       "      <td>2600.000000</td>\n",
       "      <td>2211300</td>\n",
       "      <td>JAPAN AIRLINES</td>\n",
       "    </tr>\n",
       "    <tr>\n",
       "      <th>505</th>\n",
       "      <td>2025-04-24</td>\n",
       "      <td>2588.000000</td>\n",
       "      <td>2627.000000</td>\n",
       "      <td>2586.500000</td>\n",
       "      <td>2625.000000</td>\n",
       "      <td>1576400</td>\n",
       "      <td>JAPAN AIRLINES</td>\n",
       "    </tr>\n",
       "    <tr>\n",
       "      <th>506</th>\n",
       "      <td>2025-04-25</td>\n",
       "      <td>2593.500000</td>\n",
       "      <td>2611.000000</td>\n",
       "      <td>2564.000000</td>\n",
       "      <td>2573.500000</td>\n",
       "      <td>1861100</td>\n",
       "      <td>JAPAN AIRLINES</td>\n",
       "    </tr>\n",
       "  </tbody>\n",
       "</table>\n",
       "<p>5070 rows × 7 columns</p>\n",
       "</div>"
      ],
      "text/plain": [
       "Price       Date        Close         High          Low         Open  \\\n",
       "0     2023-04-03  2383.880615  2396.761101  2367.036903  2395.770294   \n",
       "1     2023-04-04  2380.907959  2388.834411  2370.999894  2376.944733   \n",
       "2     2023-04-05  2340.285156  2371.990967  2333.349510  2365.055321   \n",
       "3     2023-04-06  2289.753662  2319.477855  2276.873179  2318.487049   \n",
       "4     2023-04-07  2300.652588  2304.615814  2285.790491  2286.781298   \n",
       "..           ...          ...          ...          ...          ...   \n",
       "502   2025-04-21  2534.000000  2543.000000  2506.000000  2525.000000   \n",
       "503   2025-04-22  2591.500000  2597.500000  2536.500000  2537.000000   \n",
       "504   2025-04-23  2615.500000  2622.000000  2593.500000  2600.000000   \n",
       "505   2025-04-24  2588.000000  2627.000000  2586.500000  2625.000000   \n",
       "506   2025-04-25  2593.500000  2611.000000  2564.000000  2573.500000   \n",
       "\n",
       "Price    Volume          Symbol  \n",
       "0      16283500            SONY  \n",
       "1      15135000            SONY  \n",
       "2      14185000            SONY  \n",
       "3      17936500            SONY  \n",
       "4       9824500            SONY  \n",
       "..          ...             ...  \n",
       "502     1701100  JAPAN AIRLINES  \n",
       "503     2045500  JAPAN AIRLINES  \n",
       "504     2211300  JAPAN AIRLINES  \n",
       "505     1576400  JAPAN AIRLINES  \n",
       "506     1861100  JAPAN AIRLINES  \n",
       "\n",
       "[5070 rows x 7 columns]"
      ]
     },
     "execution_count": 13,
     "metadata": {},
     "output_type": "execute_result"
    }
   ],
   "source": [
    "df=pd.concat([sony,toyo,hon,mitsu,nis,nipp,hit,nin,fuji,jap],axis=0)\n",
    "df"
   ]
  },
  {
   "cell_type": "code",
   "execution_count": 14,
   "id": "b3b7471b-5d2f-4e73-afcd-afa63ab790e2",
   "metadata": {},
   "outputs": [
    {
     "data": {
      "text/html": [
       "<div>\n",
       "<style scoped>\n",
       "    .dataframe tbody tr th:only-of-type {\n",
       "        vertical-align: middle;\n",
       "    }\n",
       "\n",
       "    .dataframe tbody tr th {\n",
       "        vertical-align: top;\n",
       "    }\n",
       "\n",
       "    .dataframe thead th {\n",
       "        text-align: right;\n",
       "    }\n",
       "</style>\n",
       "<table border=\"1\" class=\"dataframe\">\n",
       "  <thead>\n",
       "    <tr style=\"text-align: right;\">\n",
       "      <th>Price</th>\n",
       "      <th>Date</th>\n",
       "      <th>Close</th>\n",
       "      <th>High</th>\n",
       "      <th>Low</th>\n",
       "      <th>Open</th>\n",
       "      <th>Volume</th>\n",
       "      <th>Symbol</th>\n",
       "    </tr>\n",
       "  </thead>\n",
       "  <tbody>\n",
       "    <tr>\n",
       "      <th>0</th>\n",
       "      <td>2023-04-03</td>\n",
       "      <td>2383.880615</td>\n",
       "      <td>2396.761101</td>\n",
       "      <td>2367.036903</td>\n",
       "      <td>2395.770294</td>\n",
       "      <td>16283500</td>\n",
       "      <td>SONY</td>\n",
       "    </tr>\n",
       "    <tr>\n",
       "      <th>1</th>\n",
       "      <td>2023-04-04</td>\n",
       "      <td>2380.907959</td>\n",
       "      <td>2388.834411</td>\n",
       "      <td>2370.999894</td>\n",
       "      <td>2376.944733</td>\n",
       "      <td>15135000</td>\n",
       "      <td>SONY</td>\n",
       "    </tr>\n",
       "    <tr>\n",
       "      <th>2</th>\n",
       "      <td>2023-04-05</td>\n",
       "      <td>2340.285156</td>\n",
       "      <td>2371.990967</td>\n",
       "      <td>2333.349510</td>\n",
       "      <td>2365.055321</td>\n",
       "      <td>14185000</td>\n",
       "      <td>SONY</td>\n",
       "    </tr>\n",
       "    <tr>\n",
       "      <th>3</th>\n",
       "      <td>2023-04-06</td>\n",
       "      <td>2289.753662</td>\n",
       "      <td>2319.477855</td>\n",
       "      <td>2276.873179</td>\n",
       "      <td>2318.487049</td>\n",
       "      <td>17936500</td>\n",
       "      <td>SONY</td>\n",
       "    </tr>\n",
       "    <tr>\n",
       "      <th>4</th>\n",
       "      <td>2023-04-07</td>\n",
       "      <td>2300.652588</td>\n",
       "      <td>2304.615814</td>\n",
       "      <td>2285.790491</td>\n",
       "      <td>2286.781298</td>\n",
       "      <td>9824500</td>\n",
       "      <td>SONY</td>\n",
       "    </tr>\n",
       "    <tr>\n",
       "      <th>...</th>\n",
       "      <td>...</td>\n",
       "      <td>...</td>\n",
       "      <td>...</td>\n",
       "      <td>...</td>\n",
       "      <td>...</td>\n",
       "      <td>...</td>\n",
       "      <td>...</td>\n",
       "    </tr>\n",
       "    <tr>\n",
       "      <th>502</th>\n",
       "      <td>2025-04-21</td>\n",
       "      <td>2534.000000</td>\n",
       "      <td>2543.000000</td>\n",
       "      <td>2506.000000</td>\n",
       "      <td>2525.000000</td>\n",
       "      <td>1701100</td>\n",
       "      <td>JAPAN AIRLINES</td>\n",
       "    </tr>\n",
       "    <tr>\n",
       "      <th>503</th>\n",
       "      <td>2025-04-22</td>\n",
       "      <td>2591.500000</td>\n",
       "      <td>2597.500000</td>\n",
       "      <td>2536.500000</td>\n",
       "      <td>2537.000000</td>\n",
       "      <td>2045500</td>\n",
       "      <td>JAPAN AIRLINES</td>\n",
       "    </tr>\n",
       "    <tr>\n",
       "      <th>504</th>\n",
       "      <td>2025-04-23</td>\n",
       "      <td>2615.500000</td>\n",
       "      <td>2622.000000</td>\n",
       "      <td>2593.500000</td>\n",
       "      <td>2600.000000</td>\n",
       "      <td>2211300</td>\n",
       "      <td>JAPAN AIRLINES</td>\n",
       "    </tr>\n",
       "    <tr>\n",
       "      <th>505</th>\n",
       "      <td>2025-04-24</td>\n",
       "      <td>2588.000000</td>\n",
       "      <td>2627.000000</td>\n",
       "      <td>2586.500000</td>\n",
       "      <td>2625.000000</td>\n",
       "      <td>1576400</td>\n",
       "      <td>JAPAN AIRLINES</td>\n",
       "    </tr>\n",
       "    <tr>\n",
       "      <th>506</th>\n",
       "      <td>2025-04-25</td>\n",
       "      <td>2593.500000</td>\n",
       "      <td>2611.000000</td>\n",
       "      <td>2564.000000</td>\n",
       "      <td>2573.500000</td>\n",
       "      <td>1861100</td>\n",
       "      <td>JAPAN AIRLINES</td>\n",
       "    </tr>\n",
       "  </tbody>\n",
       "</table>\n",
       "<p>5070 rows × 7 columns</p>\n",
       "</div>"
      ],
      "text/plain": [
       "Price       Date        Close         High          Low         Open  \\\n",
       "0     2023-04-03  2383.880615  2396.761101  2367.036903  2395.770294   \n",
       "1     2023-04-04  2380.907959  2388.834411  2370.999894  2376.944733   \n",
       "2     2023-04-05  2340.285156  2371.990967  2333.349510  2365.055321   \n",
       "3     2023-04-06  2289.753662  2319.477855  2276.873179  2318.487049   \n",
       "4     2023-04-07  2300.652588  2304.615814  2285.790491  2286.781298   \n",
       "..           ...          ...          ...          ...          ...   \n",
       "502   2025-04-21  2534.000000  2543.000000  2506.000000  2525.000000   \n",
       "503   2025-04-22  2591.500000  2597.500000  2536.500000  2537.000000   \n",
       "504   2025-04-23  2615.500000  2622.000000  2593.500000  2600.000000   \n",
       "505   2025-04-24  2588.000000  2627.000000  2586.500000  2625.000000   \n",
       "506   2025-04-25  2593.500000  2611.000000  2564.000000  2573.500000   \n",
       "\n",
       "Price    Volume          Symbol  \n",
       "0      16283500            SONY  \n",
       "1      15135000            SONY  \n",
       "2      14185000            SONY  \n",
       "3      17936500            SONY  \n",
       "4       9824500            SONY  \n",
       "..          ...             ...  \n",
       "502     1701100  JAPAN AIRLINES  \n",
       "503     2045500  JAPAN AIRLINES  \n",
       "504     2211300  JAPAN AIRLINES  \n",
       "505     1576400  JAPAN AIRLINES  \n",
       "506     1861100  JAPAN AIRLINES  \n",
       "\n",
       "[5070 rows x 7 columns]"
      ]
     },
     "execution_count": 14,
     "metadata": {},
     "output_type": "execute_result"
    }
   ],
   "source": [
    "df"
   ]
  },
  {
   "cell_type": "code",
   "execution_count": 15,
   "id": "3e5f025a-89fb-41e5-84a6-3f16d8943371",
   "metadata": {},
   "outputs": [],
   "source": [
    "df['Price_change']=df['Close']-df['Open']\n",
    "df[\"High_Low_Spread\"] = df[\"High\"] - df[\"Low\"]\n",
    "df[\"Close_Open_Spread\"] = df[\"Close\"] - df[\"Open\"]"
   ]
  },
  {
   "cell_type": "code",
   "execution_count": 16,
   "id": "afc4d5f2-3ba8-462f-8583-eb2b812056ce",
   "metadata": {},
   "outputs": [
    {
     "data": {
      "text/html": [
       "<div>\n",
       "<style scoped>\n",
       "    .dataframe tbody tr th:only-of-type {\n",
       "        vertical-align: middle;\n",
       "    }\n",
       "\n",
       "    .dataframe tbody tr th {\n",
       "        vertical-align: top;\n",
       "    }\n",
       "\n",
       "    .dataframe thead th {\n",
       "        text-align: right;\n",
       "    }\n",
       "</style>\n",
       "<table border=\"1\" class=\"dataframe\">\n",
       "  <thead>\n",
       "    <tr style=\"text-align: right;\">\n",
       "      <th>Price</th>\n",
       "      <th>Date</th>\n",
       "      <th>Close</th>\n",
       "      <th>High</th>\n",
       "      <th>Low</th>\n",
       "      <th>Open</th>\n",
       "      <th>Volume</th>\n",
       "      <th>Symbol</th>\n",
       "      <th>Price_change</th>\n",
       "      <th>High_Low_Spread</th>\n",
       "      <th>Close_Open_Spread</th>\n",
       "    </tr>\n",
       "  </thead>\n",
       "  <tbody>\n",
       "    <tr>\n",
       "      <th>0</th>\n",
       "      <td>2023-04-03</td>\n",
       "      <td>2383.880615</td>\n",
       "      <td>2396.761101</td>\n",
       "      <td>2367.036903</td>\n",
       "      <td>2395.770294</td>\n",
       "      <td>16283500</td>\n",
       "      <td>SONY</td>\n",
       "      <td>-11.889679</td>\n",
       "      <td>29.724197</td>\n",
       "      <td>-11.889679</td>\n",
       "    </tr>\n",
       "    <tr>\n",
       "      <th>1</th>\n",
       "      <td>2023-04-04</td>\n",
       "      <td>2380.907959</td>\n",
       "      <td>2388.834411</td>\n",
       "      <td>2370.999894</td>\n",
       "      <td>2376.944733</td>\n",
       "      <td>15135000</td>\n",
       "      <td>SONY</td>\n",
       "      <td>3.963226</td>\n",
       "      <td>17.834517</td>\n",
       "      <td>3.963226</td>\n",
       "    </tr>\n",
       "    <tr>\n",
       "      <th>2</th>\n",
       "      <td>2023-04-05</td>\n",
       "      <td>2340.285156</td>\n",
       "      <td>2371.990967</td>\n",
       "      <td>2333.349510</td>\n",
       "      <td>2365.055321</td>\n",
       "      <td>14185000</td>\n",
       "      <td>SONY</td>\n",
       "      <td>-24.770165</td>\n",
       "      <td>38.641457</td>\n",
       "      <td>-24.770165</td>\n",
       "    </tr>\n",
       "    <tr>\n",
       "      <th>3</th>\n",
       "      <td>2023-04-06</td>\n",
       "      <td>2289.753662</td>\n",
       "      <td>2319.477855</td>\n",
       "      <td>2276.873179</td>\n",
       "      <td>2318.487049</td>\n",
       "      <td>17936500</td>\n",
       "      <td>SONY</td>\n",
       "      <td>-28.733386</td>\n",
       "      <td>42.604677</td>\n",
       "      <td>-28.733386</td>\n",
       "    </tr>\n",
       "    <tr>\n",
       "      <th>4</th>\n",
       "      <td>2023-04-07</td>\n",
       "      <td>2300.652588</td>\n",
       "      <td>2304.615814</td>\n",
       "      <td>2285.790491</td>\n",
       "      <td>2286.781298</td>\n",
       "      <td>9824500</td>\n",
       "      <td>SONY</td>\n",
       "      <td>13.871290</td>\n",
       "      <td>18.825323</td>\n",
       "      <td>13.871290</td>\n",
       "    </tr>\n",
       "    <tr>\n",
       "      <th>...</th>\n",
       "      <td>...</td>\n",
       "      <td>...</td>\n",
       "      <td>...</td>\n",
       "      <td>...</td>\n",
       "      <td>...</td>\n",
       "      <td>...</td>\n",
       "      <td>...</td>\n",
       "      <td>...</td>\n",
       "      <td>...</td>\n",
       "      <td>...</td>\n",
       "    </tr>\n",
       "    <tr>\n",
       "      <th>502</th>\n",
       "      <td>2025-04-21</td>\n",
       "      <td>2534.000000</td>\n",
       "      <td>2543.000000</td>\n",
       "      <td>2506.000000</td>\n",
       "      <td>2525.000000</td>\n",
       "      <td>1701100</td>\n",
       "      <td>JAPAN AIRLINES</td>\n",
       "      <td>9.000000</td>\n",
       "      <td>37.000000</td>\n",
       "      <td>9.000000</td>\n",
       "    </tr>\n",
       "    <tr>\n",
       "      <th>503</th>\n",
       "      <td>2025-04-22</td>\n",
       "      <td>2591.500000</td>\n",
       "      <td>2597.500000</td>\n",
       "      <td>2536.500000</td>\n",
       "      <td>2537.000000</td>\n",
       "      <td>2045500</td>\n",
       "      <td>JAPAN AIRLINES</td>\n",
       "      <td>54.500000</td>\n",
       "      <td>61.000000</td>\n",
       "      <td>54.500000</td>\n",
       "    </tr>\n",
       "    <tr>\n",
       "      <th>504</th>\n",
       "      <td>2025-04-23</td>\n",
       "      <td>2615.500000</td>\n",
       "      <td>2622.000000</td>\n",
       "      <td>2593.500000</td>\n",
       "      <td>2600.000000</td>\n",
       "      <td>2211300</td>\n",
       "      <td>JAPAN AIRLINES</td>\n",
       "      <td>15.500000</td>\n",
       "      <td>28.500000</td>\n",
       "      <td>15.500000</td>\n",
       "    </tr>\n",
       "    <tr>\n",
       "      <th>505</th>\n",
       "      <td>2025-04-24</td>\n",
       "      <td>2588.000000</td>\n",
       "      <td>2627.000000</td>\n",
       "      <td>2586.500000</td>\n",
       "      <td>2625.000000</td>\n",
       "      <td>1576400</td>\n",
       "      <td>JAPAN AIRLINES</td>\n",
       "      <td>-37.000000</td>\n",
       "      <td>40.500000</td>\n",
       "      <td>-37.000000</td>\n",
       "    </tr>\n",
       "    <tr>\n",
       "      <th>506</th>\n",
       "      <td>2025-04-25</td>\n",
       "      <td>2593.500000</td>\n",
       "      <td>2611.000000</td>\n",
       "      <td>2564.000000</td>\n",
       "      <td>2573.500000</td>\n",
       "      <td>1861100</td>\n",
       "      <td>JAPAN AIRLINES</td>\n",
       "      <td>20.000000</td>\n",
       "      <td>47.000000</td>\n",
       "      <td>20.000000</td>\n",
       "    </tr>\n",
       "  </tbody>\n",
       "</table>\n",
       "<p>5070 rows × 10 columns</p>\n",
       "</div>"
      ],
      "text/plain": [
       "Price       Date        Close         High          Low         Open  \\\n",
       "0     2023-04-03  2383.880615  2396.761101  2367.036903  2395.770294   \n",
       "1     2023-04-04  2380.907959  2388.834411  2370.999894  2376.944733   \n",
       "2     2023-04-05  2340.285156  2371.990967  2333.349510  2365.055321   \n",
       "3     2023-04-06  2289.753662  2319.477855  2276.873179  2318.487049   \n",
       "4     2023-04-07  2300.652588  2304.615814  2285.790491  2286.781298   \n",
       "..           ...          ...          ...          ...          ...   \n",
       "502   2025-04-21  2534.000000  2543.000000  2506.000000  2525.000000   \n",
       "503   2025-04-22  2591.500000  2597.500000  2536.500000  2537.000000   \n",
       "504   2025-04-23  2615.500000  2622.000000  2593.500000  2600.000000   \n",
       "505   2025-04-24  2588.000000  2627.000000  2586.500000  2625.000000   \n",
       "506   2025-04-25  2593.500000  2611.000000  2564.000000  2573.500000   \n",
       "\n",
       "Price    Volume          Symbol  Price_change  High_Low_Spread  \\\n",
       "0      16283500            SONY    -11.889679        29.724197   \n",
       "1      15135000            SONY      3.963226        17.834517   \n",
       "2      14185000            SONY    -24.770165        38.641457   \n",
       "3      17936500            SONY    -28.733386        42.604677   \n",
       "4       9824500            SONY     13.871290        18.825323   \n",
       "..          ...             ...           ...              ...   \n",
       "502     1701100  JAPAN AIRLINES      9.000000        37.000000   \n",
       "503     2045500  JAPAN AIRLINES     54.500000        61.000000   \n",
       "504     2211300  JAPAN AIRLINES     15.500000        28.500000   \n",
       "505     1576400  JAPAN AIRLINES    -37.000000        40.500000   \n",
       "506     1861100  JAPAN AIRLINES     20.000000        47.000000   \n",
       "\n",
       "Price  Close_Open_Spread  \n",
       "0             -11.889679  \n",
       "1               3.963226  \n",
       "2             -24.770165  \n",
       "3             -28.733386  \n",
       "4              13.871290  \n",
       "..                   ...  \n",
       "502             9.000000  \n",
       "503            54.500000  \n",
       "504            15.500000  \n",
       "505           -37.000000  \n",
       "506            20.000000  \n",
       "\n",
       "[5070 rows x 10 columns]"
      ]
     },
     "execution_count": 16,
     "metadata": {},
     "output_type": "execute_result"
    }
   ],
   "source": [
    "df"
   ]
  },
  {
   "cell_type": "code",
   "execution_count": null,
   "id": "a1143855-bc45-4416-b882-b342c728daef",
   "metadata": {},
   "outputs": [],
   "source": []
  },
  {
   "cell_type": "code",
   "execution_count": 17,
   "id": "712bbded-df6c-419b-a4f4-df4edd564224",
   "metadata": {},
   "outputs": [
    {
     "name": "stdout",
     "output_type": "stream",
     "text": [
      "['SONY' 'TOYOTA' 'HONDA' 'MITSUBISHI CORP' 'NISSAN MOTOR CORP'\n",
      " 'NIPPON STEEL CORP' 'HITACHI' 'NINTENDO' 'FUJITSU' 'JAPAN AIRLINES']\n"
     ]
    },
    {
     "name": "stdin",
     "output_type": "stream",
     "text": [
      "Enter Stock Name:  SONY\n"
     ]
    },
    {
     "data": {
      "image/png": "[encoded data removed]",
      "text/plain": [
       "<Figure size 640x480 with 1 Axes>"
      ]
     },
     "metadata": {},
     "output_type": "display_data"
    }
   ],
   "source": [
    "print(df.Symbol.unique())\n",
    "st = input(\"Enter Stock Name: \")\n",
    "stk = df[df.Symbol == st]\n",
    "\n",
    "sb.lineplot(x=stk.Date,y=stk.Close)\n",
    "plt.xticks(rotation=90)\n",
    "plt.show()"
   ]
  },
  {
   "cell_type": "code",
   "execution_count": 18,
   "id": "d44489ec-8173-4cf7-bae8-9057dc313d3d",
   "metadata": {},
   "outputs": [],
   "source": [
    "df.to_csv('tokyo_index.csv')"
   ]
  },
  {
   "cell_type": "code",
   "execution_count": null,
   "id": "a43063cb-68e4-497e-91c7-981dc9ebfd87",
   "metadata": {},
   "outputs": [],
   "source": []
  }
 ],
 "metadata": {
  "kernelspec": {
   "display_name": "Python 3 (ipykernel)",
   "language": "python",
   "name": "python3"
  },
  "language_info": {
   "codemirror_mode": {
    "name": "ipython",
    "version": 3
   },
   "file_extension": ".py",
   "mimetype": "text/x-python",
   "name": "python",
   "nbconvert_exporter": "python",
   "pygments_lexer": "ipython3",
   "version": "3.12.4"
  }
 },
 "nbformat": 4,
 "nbformat_minor": 5
}
