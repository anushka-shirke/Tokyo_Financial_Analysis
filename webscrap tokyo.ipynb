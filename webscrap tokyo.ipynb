{
 "cells": [
  {
   "cell_type": "code",
   "execution_count": 1,
   "id": "78dd63a4-0267-4e7b-8d07-2f9618718592",
   "metadata": {},
   "outputs": [],
   "source": [
    "import pandas as pd\n",
    "import datetime \n",
    "import yfinance as yf\n",
    "import seaborn as sb\n",
    "import matplotlib.pyplot as plt"
   ]
  },
  {
   "cell_type": "code",
   "execution_count": 2,
   "id": "54f305f3-e290-4e72-b048-645963d07aeb",
   "metadata": {},
   "outputs": [],
   "source": [
    "s=datetime.datetime(2023,4,1)\n",
    "e=datetime.datetime(2025,4,26)"
   ]
  },
  {
   "cell_type": "code",
   "execution_count": 3,
   "id": "147d6f38-dc10-4611-9f08-5b4945dd7bbc",
   "metadata": {},
   "outputs": [
    {
     "name": "stdout",
     "output_type": "stream",
     "text": [
      "YF.download() has changed argument auto_adjust default to True\n"
     ]
    },
    {
     "name": "stderr",
     "output_type": "stream",
     "text": [
      "[*********************100%***********************]  1 of 1 completed\n"
     ]
    }
   ],
   "source": [
    "sony=yf.download('6758.T',start=s,end=e)\n",
    "sony.columns=sony.columns.get_level_values(0)\n",
    "sony=sony.reset_index()\n",
    "sony['Symbol']='SONY'"
   ]
  },
  {
   "cell_type": "code",
   "execution_count": 4,
   "id": "ad83817f-b57e-4fed-abb9-b43433715bfb",
   "metadata": {},
   "outputs": [
    {
     "name": "stderr",
     "output_type": "stream",
     "text": [
      "[*********************100%***********************]  1 of 1 completed\n"
     ]
    }
   ],
   "source": [
    "toyo=yf.download('7203.T',start=s,end=e)\n",
    "toyo.columns=toyo.columns.get_level_values(0)\n",
    "toyo=toyo.reset_index()\n",
    "toyo['Symbol']='TOYOTA'"
   ]
  },
  {
   "cell_type": "code",
   "execution_count": 5,
   "id": "5a2a6c23-0e1c-48fc-9043-f89122babe6b",
   "metadata": {},
   "outputs": [
    {
     "name": "stderr",
     "output_type": "stream",
     "text": [
      "[*********************100%***********************]  1 of 1 completed\n"
     ]
    }
   ],
   "source": [
    "hon=yf.download('7267.T',start=s,end=e)\n",
    "hon.columns=hon.columns.get_level_values(0)\n",
    "hon=hon.reset_index()\n",
    "hon['Symbol']='HONDA'"
   ]
  },
  {
   "cell_type": "code",
   "execution_count": 6,
   "id": "5db4b895-b688-4777-92ae-12dec6386fc0",
   "metadata": {},
   "outputs": [
    {
     "name": "stderr",
     "output_type": "stream",
     "text": [
      "[*********************100%***********************]  1 of 1 completed\n"
     ]
    }
   ],
   "source": [
    "mitsu=yf.download('8058.T',start=s,end=e)\n",
    "mitsu.columns=mitsu.columns.get_level_values(0)\n",
    "mitsu=mitsu.reset_index()\n",
    "mitsu['Symbol']='MITSUBISHI CORP'"
   ]
  },
  {
   "cell_type": "code",
   "execution_count": 7,
   "id": "e64b9e7a-2ece-40c3-952d-2e3284813858",
   "metadata": {},
   "outputs": [
    {
     "name": "stderr",
     "output_type": "stream",
     "text": [
      "[*********************100%***********************]  1 of 1 completed\n"
     ]
    }
   ],
   "source": [
    "nis=yf.download('7201.T',start=s,end=e)\n",
    "nis.columns=nis.columns.get_level_values(0)\n",
    "nis=nis.reset_index()\n",
    "nis['Symbol']='NISSAN MOTOR CORP'"
   ]
  },
  {
   "cell_type": "code",
   "execution_count": 8,
   "id": "1b387f00-22fe-478e-9b9f-92f5f6d8634c",
   "metadata": {},
   "outputs": [
    {
     "name": "stderr",
     "output_type": "stream",
     "text": [
      "[*********************100%***********************]  1 of 1 completed\n"
     ]
    }
   ],
   "source": [
    "nipp=yf.download('5401.T',start=s,end=e)\n",
    "nipp.columns=nipp.columns.get_level_values(0)\n",
    "nipp=nipp.reset_index()\n",
    "nipp['Symbol']='NIPPON STEEL CORP'"
   ]
  },
  {
   "cell_type": "code",
   "execution_count": 9,
   "id": "53ecfc66-6374-4a95-bcca-f9188a85c05a",
   "metadata": {},
   "outputs": [
    {
     "name": "stderr",
     "output_type": "stream",
     "text": [
      "[*********************100%***********************]  1 of 1 completed\n"
     ]
    }
   ],
   "source": [
    "hit=yf.download('6501.T',start=s,end=e)\n",
    "hit.columns=hit.columns.get_level_values(0)\n",
    "hit=hit.reset_index()\n",
    "hit['Symbol']='HITACHI'"
   ]
  },
  {
   "cell_type": "code",
   "execution_count": 10,
   "id": "c47f5a8e-0880-4df8-a588-629d49127622",
   "metadata": {},
   "outputs": [
    {
     "name": "stderr",
     "output_type": "stream",
     "text": [
      "[*********************100%***********************]  1 of 1 completed\n"
     ]
    }
   ],
   "source": [
    "nin=yf.download('7974.T',start=s,end=e)\n",
    "nin.columns=nin.columns.get_level_values(0)\n",
    "nin=nin.reset_index()\n",
    "nin['Symbol']='NINTENDO'"
   ]
  },
  {
   "cell_type": "code",
   "execution_count": 11,
   "id": "599dae45-47c6-4b51-a021-d7b194ad2756",
   "metadata": {},
   "outputs": [
    {
     "name": "stderr",
     "output_type": "stream",
     "text": [
      "[*********************100%***********************]  1 of 1 completed\n"
     ]
    }
   ],
   "source": [
    "fuji=yf.download('6702.T',start=s,end=e)\n",
    "fuji.columns=fuji.columns.get_level_values(0)\n",
    "fuji=fuji.reset_index()\n",
    "fuji['Symbol']='FUJITSU'"
   ]
  },
  {
   "cell_type": "code",
   "execution_count": 12,
   "id": "a5229419-6918-4f5c-9a36-9b9a428849cc",
   "metadata": {},
   "outputs": [
    {
     "name": "stderr",
     "output_type": "stream",
     "text": [
      "[*********************100%***********************]  1 of 1 completed\n"
     ]
    }
   ],
   "source": [
    "jap=yf.download('9201.T',start=s,end=e)\n",
    "jap.columns=jap.columns.get_level_values(0)\n",
    "jap=jap.reset_index()\n",
    "jap['Symbol']='JAPAN AIRLINES'"
   ]
  },
  {
   "cell_type": "code",
   "execution_count": null,
   "id": "2c3bf29b-1f2f-4b17-a913-8a6704eb5969",
   "metadata": {},
   "outputs": [],
   "source": []
  },
  {
   "cell_type": "code",
   "execution_count": 13,
   "id": "373430fb-0ced-4f68-b85f-0ac8a3d9b9f4",
   "metadata": {},
   "outputs": [
    {
     "data": {
      "text/html": [
       "<div>\n",
       "<style scoped>\n",
       "    .dataframe tbody tr th:only-of-type {\n",
       "        vertical-align: middle;\n",
       "    }\n",
       "\n",
       "    .dataframe tbody tr th {\n",
       "        vertical-align: top;\n",
       "    }\n",
       "\n",
       "    .dataframe thead th {\n",
       "        text-align: right;\n",
       "    }\n",
       "</style>\n",
       "<table border=\"1\" class=\"dataframe\">\n",
       "  <thead>\n",
       "    <tr style=\"text-align: right;\">\n",
       "      <th>Price</th>\n",
       "      <th>Date</th>\n",
       "      <th>Close</th>\n",
       "      <th>High</th>\n",
       "      <th>Low</th>\n",
       "      <th>Open</th>\n",
       "      <th>Volume</th>\n",
       "      <th>Symbol</th>\n",
       "    </tr>\n",
       "  </thead>\n",
       "  <tbody>\n",
       "    <tr>\n",
       "      <th>0</th>\n",
       "      <td>2023-01-04</td>\n",
       "      <td>2014.100464</td>\n",
       "      <td>2042.830869</td>\n",
       "      <td>1988.342170</td>\n",
       "      <td>2005.184131</td>\n",
       "      <td>20124500</td>\n",
       "      <td>SONY</td>\n",
       "    </tr>\n",
       "    <tr>\n",
       "      <th>1</th>\n",
       "      <td>2023-01-05</td>\n",
       "      <td>2057.691406</td>\n",
       "      <td>2082.458997</td>\n",
       "      <td>2040.849445</td>\n",
       "      <td>2042.830852</td>\n",
       "      <td>21693000</td>\n",
       "      <td>SONY</td>\n",
       "    </tr>\n",
       "    <tr>\n",
       "      <th>2</th>\n",
       "      <td>2023-01-06</td>\n",
       "      <td>2107.226807</td>\n",
       "      <td>2118.124548</td>\n",
       "      <td>2051.747398</td>\n",
       "      <td>2055.710213</td>\n",
       "      <td>20535000</td>\n",
       "      <td>SONY</td>\n",
       "    </tr>\n",
       "    <tr>\n",
       "      <th>3</th>\n",
       "      <td>2023-01-10</td>\n",
       "      <td>2125.059082</td>\n",
       "      <td>2163.696520</td>\n",
       "      <td>2107.226418</td>\n",
       "      <td>2152.798781</td>\n",
       "      <td>19630000</td>\n",
       "      <td>SONY</td>\n",
       "    </tr>\n",
       "    <tr>\n",
       "      <th>4</th>\n",
       "      <td>2023-01-11</td>\n",
       "      <td>2199.362061</td>\n",
       "      <td>2204.315579</td>\n",
       "      <td>2139.919843</td>\n",
       "      <td>2149.826879</td>\n",
       "      <td>22694500</td>\n",
       "      <td>SONY</td>\n",
       "    </tr>\n",
       "    <tr>\n",
       "      <th>...</th>\n",
       "      <td>...</td>\n",
       "      <td>...</td>\n",
       "      <td>...</td>\n",
       "      <td>...</td>\n",
       "      <td>...</td>\n",
       "      <td>...</td>\n",
       "      <td>...</td>\n",
       "    </tr>\n",
       "    <tr>\n",
       "      <th>538</th>\n",
       "      <td>2025-03-17</td>\n",
       "      <td>2547.816162</td>\n",
       "      <td>2560.131592</td>\n",
       "      <td>2546.830928</td>\n",
       "      <td>2549.786631</td>\n",
       "      <td>1519100</td>\n",
       "      <td>JAPAN AIRLINES</td>\n",
       "    </tr>\n",
       "    <tr>\n",
       "      <th>539</th>\n",
       "      <td>2025-03-18</td>\n",
       "      <td>2559.146240</td>\n",
       "      <td>2570.476435</td>\n",
       "      <td>2551.264365</td>\n",
       "      <td>2566.535498</td>\n",
       "      <td>2054200</td>\n",
       "      <td>JAPAN AIRLINES</td>\n",
       "    </tr>\n",
       "    <tr>\n",
       "      <th>540</th>\n",
       "      <td>2025-03-19</td>\n",
       "      <td>2608.900635</td>\n",
       "      <td>2634.024111</td>\n",
       "      <td>2570.476494</td>\n",
       "      <td>2571.461728</td>\n",
       "      <td>4080100</td>\n",
       "      <td>JAPAN AIRLINES</td>\n",
       "    </tr>\n",
       "    <tr>\n",
       "      <th>541</th>\n",
       "      <td>2025-03-21</td>\n",
       "      <td>2638.457764</td>\n",
       "      <td>2658.162452</td>\n",
       "      <td>2611.363817</td>\n",
       "      <td>2618.753075</td>\n",
       "      <td>3950300</td>\n",
       "      <td>JAPAN AIRLINES</td>\n",
       "    </tr>\n",
       "    <tr>\n",
       "      <th>542</th>\n",
       "      <td>2025-03-24</td>\n",
       "      <td>2638.457764</td>\n",
       "      <td>2662.596007</td>\n",
       "      <td>2592.644363</td>\n",
       "      <td>2648.310108</td>\n",
       "      <td>2579300</td>\n",
       "      <td>JAPAN AIRLINES</td>\n",
       "    </tr>\n",
       "  </tbody>\n",
       "</table>\n",
       "<p>5430 rows × 7 columns</p>\n",
       "</div>"
      ],
      "text/plain": [
       "Price       Date        Close         High          Low         Open  \\\n",
       "0     2023-01-04  2014.100464  2042.830869  1988.342170  2005.184131   \n",
       "1     2023-01-05  2057.691406  2082.458997  2040.849445  2042.830852   \n",
       "2     2023-01-06  2107.226807  2118.124548  2051.747398  2055.710213   \n",
       "3     2023-01-10  2125.059082  2163.696520  2107.226418  2152.798781   \n",
       "4     2023-01-11  2199.362061  2204.315579  2139.919843  2149.826879   \n",
       "..           ...          ...          ...          ...          ...   \n",
       "538   2025-03-17  2547.816162  2560.131592  2546.830928  2549.786631   \n",
       "539   2025-03-18  2559.146240  2570.476435  2551.264365  2566.535498   \n",
       "540   2025-03-19  2608.900635  2634.024111  2570.476494  2571.461728   \n",
       "541   2025-03-21  2638.457764  2658.162452  2611.363817  2618.753075   \n",
       "542   2025-03-24  2638.457764  2662.596007  2592.644363  2648.310108   \n",
       "\n",
       "Price    Volume          Symbol  \n",
       "0      20124500            SONY  \n",
       "1      21693000            SONY  \n",
       "2      20535000            SONY  \n",
       "3      19630000            SONY  \n",
       "4      22694500            SONY  \n",
       "..          ...             ...  \n",
       "538     1519100  JAPAN AIRLINES  \n",
       "539     2054200  JAPAN AIRLINES  \n",
       "540     4080100  JAPAN AIRLINES  \n",
       "541     3950300  JAPAN AIRLINES  \n",
       "542     2579300  JAPAN AIRLINES  \n",
       "\n",
       "[5430 rows x 7 columns]"
      ]
     },
     "execution_count": 13,
     "metadata": {},
     "output_type": "execute_result"
    }
   ],
   "source": [
    "df=pd.concat([sony,toyo,hon,mitsu,nis,nipp,hit,nin,fuji,jap],axis=0)\n",
    "df"
   ]
  },
  {
   "cell_type": "code",
   "execution_count": 14,
   "id": "b3b7471b-5d2f-4e73-afcd-afa63ab790e2",
   "metadata": {},
   "outputs": [
    {
     "data": {
      "text/html": [
       "<div>\n",
       "<style scoped>\n",
       "    .dataframe tbody tr th:only-of-type {\n",
       "        vertical-align: middle;\n",
       "    }\n",
       "\n",
       "    .dataframe tbody tr th {\n",
       "        vertical-align: top;\n",
       "    }\n",
       "\n",
       "    .dataframe thead th {\n",
       "        text-align: right;\n",
       "    }\n",
       "</style>\n",
       "<table border=\"1\" class=\"dataframe\">\n",
       "  <thead>\n",
       "    <tr style=\"text-align: right;\">\n",
       "      <th>Price</th>\n",
       "      <th>Date</th>\n",
       "      <th>Close</th>\n",
       "      <th>High</th>\n",
       "      <th>Low</th>\n",
       "      <th>Open</th>\n",
       "      <th>Volume</th>\n",
       "      <th>Symbol</th>\n",
       "    </tr>\n",
       "  </thead>\n",
       "  <tbody>\n",
       "    <tr>\n",
       "      <th>0</th>\n",
       "      <td>2023-01-04</td>\n",
       "      <td>2014.100464</td>\n",
       "      <td>2042.830869</td>\n",
       "      <td>1988.342170</td>\n",
       "      <td>2005.184131</td>\n",
       "      <td>20124500</td>\n",
       "      <td>SONY</td>\n",
       "    </tr>\n",
       "    <tr>\n",
       "      <th>1</th>\n",
       "      <td>2023-01-05</td>\n",
       "      <td>2057.691406</td>\n",
       "      <td>2082.458997</td>\n",
       "      <td>2040.849445</td>\n",
       "      <td>2042.830852</td>\n",
       "      <td>21693000</td>\n",
       "      <td>SONY</td>\n",
       "    </tr>\n",
       "    <tr>\n",
       "      <th>2</th>\n",
       "      <td>2023-01-06</td>\n",
       "      <td>2107.226807</td>\n",
       "      <td>2118.124548</td>\n",
       "      <td>2051.747398</td>\n",
       "      <td>2055.710213</td>\n",
       "      <td>20535000</td>\n",
       "      <td>SONY</td>\n",
       "    </tr>\n",
       "    <tr>\n",
       "      <th>3</th>\n",
       "      <td>2023-01-10</td>\n",
       "      <td>2125.059082</td>\n",
       "      <td>2163.696520</td>\n",
       "      <td>2107.226418</td>\n",
       "      <td>2152.798781</td>\n",
       "      <td>19630000</td>\n",
       "      <td>SONY</td>\n",
       "    </tr>\n",
       "    <tr>\n",
       "      <th>4</th>\n",
       "      <td>2023-01-11</td>\n",
       "      <td>2199.362061</td>\n",
       "      <td>2204.315579</td>\n",
       "      <td>2139.919843</td>\n",
       "      <td>2149.826879</td>\n",
       "      <td>22694500</td>\n",
       "      <td>SONY</td>\n",
       "    </tr>\n",
       "    <tr>\n",
       "      <th>...</th>\n",
       "      <td>...</td>\n",
       "      <td>...</td>\n",
       "      <td>...</td>\n",
       "      <td>...</td>\n",
       "      <td>...</td>\n",
       "      <td>...</td>\n",
       "      <td>...</td>\n",
       "    </tr>\n",
       "    <tr>\n",
       "      <th>538</th>\n",
       "      <td>2025-03-17</td>\n",
       "      <td>2547.816162</td>\n",
       "      <td>2560.131592</td>\n",
       "      <td>2546.830928</td>\n",
       "      <td>2549.786631</td>\n",
       "      <td>1519100</td>\n",
       "      <td>JAPAN AIRLINES</td>\n",
       "    </tr>\n",
       "    <tr>\n",
       "      <th>539</th>\n",
       "      <td>2025-03-18</td>\n",
       "      <td>2559.146240</td>\n",
       "      <td>2570.476435</td>\n",
       "      <td>2551.264365</td>\n",
       "      <td>2566.535498</td>\n",
       "      <td>2054200</td>\n",
       "      <td>JAPAN AIRLINES</td>\n",
       "    </tr>\n",
       "    <tr>\n",
       "      <th>540</th>\n",
       "      <td>2025-03-19</td>\n",
       "      <td>2608.900635</td>\n",
       "      <td>2634.024111</td>\n",
       "      <td>2570.476494</td>\n",
       "      <td>2571.461728</td>\n",
       "      <td>4080100</td>\n",
       "      <td>JAPAN AIRLINES</td>\n",
       "    </tr>\n",
       "    <tr>\n",
       "      <th>541</th>\n",
       "      <td>2025-03-21</td>\n",
       "      <td>2638.457764</td>\n",
       "      <td>2658.162452</td>\n",
       "      <td>2611.363817</td>\n",
       "      <td>2618.753075</td>\n",
       "      <td>3950300</td>\n",
       "      <td>JAPAN AIRLINES</td>\n",
       "    </tr>\n",
       "    <tr>\n",
       "      <th>542</th>\n",
       "      <td>2025-03-24</td>\n",
       "      <td>2638.457764</td>\n",
       "      <td>2662.596007</td>\n",
       "      <td>2592.644363</td>\n",
       "      <td>2648.310108</td>\n",
       "      <td>2579300</td>\n",
       "      <td>JAPAN AIRLINES</td>\n",
       "    </tr>\n",
       "  </tbody>\n",
       "</table>\n",
       "<p>5430 rows × 7 columns</p>\n",
       "</div>"
      ],
      "text/plain": [
       "Price       Date        Close         High          Low         Open  \\\n",
       "0     2023-01-04  2014.100464  2042.830869  1988.342170  2005.184131   \n",
       "1     2023-01-05  2057.691406  2082.458997  2040.849445  2042.830852   \n",
       "2     2023-01-06  2107.226807  2118.124548  2051.747398  2055.710213   \n",
       "3     2023-01-10  2125.059082  2163.696520  2107.226418  2152.798781   \n",
       "4     2023-01-11  2199.362061  2204.315579  2139.919843  2149.826879   \n",
       "..           ...          ...          ...          ...          ...   \n",
       "538   2025-03-17  2547.816162  2560.131592  2546.830928  2549.786631   \n",
       "539   2025-03-18  2559.146240  2570.476435  2551.264365  2566.535498   \n",
       "540   2025-03-19  2608.900635  2634.024111  2570.476494  2571.461728   \n",
       "541   2025-03-21  2638.457764  2658.162452  2611.363817  2618.753075   \n",
       "542   2025-03-24  2638.457764  2662.596007  2592.644363  2648.310108   \n",
       "\n",
       "Price    Volume          Symbol  \n",
       "0      20124500            SONY  \n",
       "1      21693000            SONY  \n",
       "2      20535000            SONY  \n",
       "3      19630000            SONY  \n",
       "4      22694500            SONY  \n",
       "..          ...             ...  \n",
       "538     1519100  JAPAN AIRLINES  \n",
       "539     2054200  JAPAN AIRLINES  \n",
       "540     4080100  JAPAN AIRLINES  \n",
       "541     3950300  JAPAN AIRLINES  \n",
       "542     2579300  JAPAN AIRLINES  \n",
       "\n",
       "[5430 rows x 7 columns]"
      ]
     },
     "execution_count": 14,
     "metadata": {},
     "output_type": "execute_result"
    }
   ],
   "source": [
    "df"
   ]
  },
  {
   "cell_type": "code",
   "execution_count": 15,
   "id": "3e5f025a-89fb-41e5-84a6-3f16d8943371",
   "metadata": {},
   "outputs": [],
   "source": [
    "df['Price_change']=df['Close']-df['Open']\n",
    "df[\"High_Low_Spread\"] = df[\"High\"] - df[\"Low\"]\n",
    "df[\"Close_Open_Spread\"] = df[\"Close\"] - df[\"Open\"]"
   ]
  },
  {
   "cell_type": "code",
   "execution_count": 16,
   "id": "afc4d5f2-3ba8-462f-8583-eb2b812056ce",
   "metadata": {},
   "outputs": [
    {
     "data": {
      "text/html": [
       "<div>\n",
       "<style scoped>\n",
       "    .dataframe tbody tr th:only-of-type {\n",
       "        vertical-align: middle;\n",
       "    }\n",
       "\n",
       "    .dataframe tbody tr th {\n",
       "        vertical-align: top;\n",
       "    }\n",
       "\n",
       "    .dataframe thead th {\n",
       "        text-align: right;\n",
       "    }\n",
       "</style>\n",
       "<table border=\"1\" class=\"dataframe\">\n",
       "  <thead>\n",
       "    <tr style=\"text-align: right;\">\n",
       "      <th>Price</th>\n",
       "      <th>Date</th>\n",
       "      <th>Close</th>\n",
       "      <th>High</th>\n",
       "      <th>Low</th>\n",
       "      <th>Open</th>\n",
       "      <th>Volume</th>\n",
       "      <th>Symbol</th>\n",
       "      <th>Price_change</th>\n",
       "      <th>High_Low_Spread</th>\n",
       "      <th>Close_Open_Spread</th>\n",
       "    </tr>\n",
       "  </thead>\n",
       "  <tbody>\n",
       "    <tr>\n",
       "      <th>0</th>\n",
       "      <td>2023-01-04</td>\n",
       "      <td>2014.100464</td>\n",
       "      <td>2042.830869</td>\n",
       "      <td>1988.342170</td>\n",
       "      <td>2005.184131</td>\n",
       "      <td>20124500</td>\n",
       "      <td>SONY</td>\n",
       "      <td>8.916333</td>\n",
       "      <td>54.488699</td>\n",
       "      <td>8.916333</td>\n",
       "    </tr>\n",
       "    <tr>\n",
       "      <th>1</th>\n",
       "      <td>2023-01-05</td>\n",
       "      <td>2057.691406</td>\n",
       "      <td>2082.458997</td>\n",
       "      <td>2040.849445</td>\n",
       "      <td>2042.830852</td>\n",
       "      <td>21693000</td>\n",
       "      <td>SONY</td>\n",
       "      <td>14.860554</td>\n",
       "      <td>41.609552</td>\n",
       "      <td>14.860554</td>\n",
       "    </tr>\n",
       "    <tr>\n",
       "      <th>2</th>\n",
       "      <td>2023-01-06</td>\n",
       "      <td>2107.226807</td>\n",
       "      <td>2118.124548</td>\n",
       "      <td>2051.747398</td>\n",
       "      <td>2055.710213</td>\n",
       "      <td>20535000</td>\n",
       "      <td>SONY</td>\n",
       "      <td>51.516593</td>\n",
       "      <td>66.377149</td>\n",
       "      <td>51.516593</td>\n",
       "    </tr>\n",
       "    <tr>\n",
       "      <th>3</th>\n",
       "      <td>2023-01-10</td>\n",
       "      <td>2125.059082</td>\n",
       "      <td>2163.696520</td>\n",
       "      <td>2107.226418</td>\n",
       "      <td>2152.798781</td>\n",
       "      <td>19630000</td>\n",
       "      <td>SONY</td>\n",
       "      <td>-27.739699</td>\n",
       "      <td>56.470101</td>\n",
       "      <td>-27.739699</td>\n",
       "    </tr>\n",
       "    <tr>\n",
       "      <th>4</th>\n",
       "      <td>2023-01-11</td>\n",
       "      <td>2199.362061</td>\n",
       "      <td>2204.315579</td>\n",
       "      <td>2139.919843</td>\n",
       "      <td>2149.826879</td>\n",
       "      <td>22694500</td>\n",
       "      <td>SONY</td>\n",
       "      <td>49.535182</td>\n",
       "      <td>64.395736</td>\n",
       "      <td>49.535182</td>\n",
       "    </tr>\n",
       "    <tr>\n",
       "      <th>...</th>\n",
       "      <td>...</td>\n",
       "      <td>...</td>\n",
       "      <td>...</td>\n",
       "      <td>...</td>\n",
       "      <td>...</td>\n",
       "      <td>...</td>\n",
       "      <td>...</td>\n",
       "      <td>...</td>\n",
       "      <td>...</td>\n",
       "      <td>...</td>\n",
       "    </tr>\n",
       "    <tr>\n",
       "      <th>538</th>\n",
       "      <td>2025-03-17</td>\n",
       "      <td>2547.816162</td>\n",
       "      <td>2560.131592</td>\n",
       "      <td>2546.830928</td>\n",
       "      <td>2549.786631</td>\n",
       "      <td>1519100</td>\n",
       "      <td>JAPAN AIRLINES</td>\n",
       "      <td>-1.970469</td>\n",
       "      <td>13.300664</td>\n",
       "      <td>-1.970469</td>\n",
       "    </tr>\n",
       "    <tr>\n",
       "      <th>539</th>\n",
       "      <td>2025-03-18</td>\n",
       "      <td>2559.146240</td>\n",
       "      <td>2570.476435</td>\n",
       "      <td>2551.264365</td>\n",
       "      <td>2566.535498</td>\n",
       "      <td>2054200</td>\n",
       "      <td>JAPAN AIRLINES</td>\n",
       "      <td>-7.389258</td>\n",
       "      <td>19.212070</td>\n",
       "      <td>-7.389258</td>\n",
       "    </tr>\n",
       "    <tr>\n",
       "      <th>540</th>\n",
       "      <td>2025-03-19</td>\n",
       "      <td>2608.900635</td>\n",
       "      <td>2634.024111</td>\n",
       "      <td>2570.476494</td>\n",
       "      <td>2571.461728</td>\n",
       "      <td>4080100</td>\n",
       "      <td>JAPAN AIRLINES</td>\n",
       "      <td>37.438906</td>\n",
       "      <td>63.547617</td>\n",
       "      <td>37.438906</td>\n",
       "    </tr>\n",
       "    <tr>\n",
       "      <th>541</th>\n",
       "      <td>2025-03-21</td>\n",
       "      <td>2638.457764</td>\n",
       "      <td>2658.162452</td>\n",
       "      <td>2611.363817</td>\n",
       "      <td>2618.753075</td>\n",
       "      <td>3950300</td>\n",
       "      <td>JAPAN AIRLINES</td>\n",
       "      <td>19.704688</td>\n",
       "      <td>46.798635</td>\n",
       "      <td>19.704688</td>\n",
       "    </tr>\n",
       "    <tr>\n",
       "      <th>542</th>\n",
       "      <td>2025-03-24</td>\n",
       "      <td>2638.457764</td>\n",
       "      <td>2662.596007</td>\n",
       "      <td>2592.644363</td>\n",
       "      <td>2648.310108</td>\n",
       "      <td>2579300</td>\n",
       "      <td>JAPAN AIRLINES</td>\n",
       "      <td>-9.852344</td>\n",
       "      <td>69.951643</td>\n",
       "      <td>-9.852344</td>\n",
       "    </tr>\n",
       "  </tbody>\n",
       "</table>\n",
       "<p>5430 rows × 10 columns</p>\n",
       "</div>"
      ],
      "text/plain": [
       "Price       Date        Close         High          Low         Open  \\\n",
       "0     2023-01-04  2014.100464  2042.830869  1988.342170  2005.184131   \n",
       "1     2023-01-05  2057.691406  2082.458997  2040.849445  2042.830852   \n",
       "2     2023-01-06  2107.226807  2118.124548  2051.747398  2055.710213   \n",
       "3     2023-01-10  2125.059082  2163.696520  2107.226418  2152.798781   \n",
       "4     2023-01-11  2199.362061  2204.315579  2139.919843  2149.826879   \n",
       "..           ...          ...          ...          ...          ...   \n",
       "538   2025-03-17  2547.816162  2560.131592  2546.830928  2549.786631   \n",
       "539   2025-03-18  2559.146240  2570.476435  2551.264365  2566.535498   \n",
       "540   2025-03-19  2608.900635  2634.024111  2570.476494  2571.461728   \n",
       "541   2025-03-21  2638.457764  2658.162452  2611.363817  2618.753075   \n",
       "542   2025-03-24  2638.457764  2662.596007  2592.644363  2648.310108   \n",
       "\n",
       "Price    Volume          Symbol  Price_change  High_Low_Spread  \\\n",
       "0      20124500            SONY      8.916333        54.488699   \n",
       "1      21693000            SONY     14.860554        41.609552   \n",
       "2      20535000            SONY     51.516593        66.377149   \n",
       "3      19630000            SONY    -27.739699        56.470101   \n",
       "4      22694500            SONY     49.535182        64.395736   \n",
       "..          ...             ...           ...              ...   \n",
       "538     1519100  JAPAN AIRLINES     -1.970469        13.300664   \n",
       "539     2054200  JAPAN AIRLINES     -7.389258        19.212070   \n",
       "540     4080100  JAPAN AIRLINES     37.438906        63.547617   \n",
       "541     3950300  JAPAN AIRLINES     19.704688        46.798635   \n",
       "542     2579300  JAPAN AIRLINES     -9.852344        69.951643   \n",
       "\n",
       "Price  Close_Open_Spread  \n",
       "0               8.916333  \n",
       "1              14.860554  \n",
       "2              51.516593  \n",
       "3             -27.739699  \n",
       "4              49.535182  \n",
       "..                   ...  \n",
       "538            -1.970469  \n",
       "539            -7.389258  \n",
       "540            37.438906  \n",
       "541            19.704688  \n",
       "542            -9.852344  \n",
       "\n",
       "[5430 rows x 10 columns]"
      ]
     },
     "execution_count": 16,
     "metadata": {},
     "output_type": "execute_result"
    }
   ],
   "source": [
    "df"
   ]
  },
  {
   "cell_type": "code",
   "execution_count": null,
   "id": "a1143855-bc45-4416-b882-b342c728daef",
   "metadata": {},
   "outputs": [],
   "source": []
  },
  {
   "cell_type": "code",
   "execution_count": 17,
   "id": "712bbded-df6c-419b-a4f4-df4edd564224",
   "metadata": {},
   "outputs": [
    {
     "name": "stdout",
     "output_type": "stream",
     "text": [
      "['SONY' 'TOYOTA' 'HONDA' 'MITSUBISHI CORP' 'NISSAN MOTOR CORP'\n",
      " 'NIPPON STEEL CORP' 'HITACHI' 'NINTENDO' 'FUJITSU' 'JAPAN AIRLINES']\n"
     ]
    },
    {
     "name": "stdin",
     "output_type": "stream",
     "text": [
      "Enter Stock Name:  JAPAN AIRLINES\n"
     ]
    },
    {
     "data": {
      "image/png": "[encoded data removed]",
      "text/plain": [
       "<Figure size 640x480 with 1 Axes>"
      ]
     },
     "metadata": {},
     "output_type": "display_data"
    }
   ],
   "source": [
    "print(df.Symbol.unique())\n",
    "st = input(\"Enter Stock Name: \")\n",
    "stk = df[df.Symbol == st]\n",
    "\n",
    "sb.lineplot(x=stk.Date,y=stk.Close)\n",
    "plt.xticks(rotation=90)\n",
    "plt.show()"
   ]
  },
  {
   "cell_type": "code",
   "execution_count": 19,
   "id": "d44489ec-8173-4cf7-bae8-9057dc313d3d",
   "metadata": {},
   "outputs": [],
   "source": [
    "df.to_csv('tokyo_index.csv')"
   ]
  },
  {
   "cell_type": "code",
   "execution_count": null,
   "id": "a43063cb-68e4-497e-91c7-981dc9ebfd87",
   "metadata": {},
   "outputs": [],
   "source": []
  }
 ],
 "metadata": {
  "kernelspec": {
   "display_name": "Python 3 (ipykernel)",
   "language": "python",
   "name": "python3"
  },
  "language_info": {
   "codemirror_mode": {
    "name": "ipython",
    "version": 3
   },
   "file_extension": ".py",
   "mimetype": "text/x-python",
   "name": "python",
   "nbconvert_exporter": "python",
   "pygments_lexer": "ipython3",
   "version": "3.12.4"
  }
 },
 "nbformat": 4,
 "nbformat_minor": 5
}
